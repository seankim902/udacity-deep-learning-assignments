{
 "cells": [
  {
   "cell_type": "markdown",
   "metadata": {
    "colab_type": "text",
    "id": "kR-4eNdK6lYS"
   },
   "source": [
    "Deep Learning\n",
    "=============\n",
    "\n",
    "Assignment 3\n",
    "------------\n",
    "\n",
    "Previously in `2_fullyconnected.ipynb`, you trained a logistic regression and a neural network model.\n",
    "\n",
    "The goal of this assignment is to explore regularization techniques."
   ]
  },
  {
   "cell_type": "code",
   "execution_count": 1,
   "metadata": {
    "cellView": "both",
    "colab": {
     "autoexec": {
      "startup": false,
      "wait_interval": 0
     }
    },
    "colab_type": "code",
    "collapsed": true,
    "id": "JLpLa8Jt7Vu4"
   },
   "outputs": [],
   "source": [
    "# These are all the modules we'll be using later. Make sure you can import them\n",
    "# before proceeding further.\n",
    "from __future__ import print_function\n",
    "import numpy as np\n",
    "import tensorflow as tf\n",
    "from six.moves import cPickle as pickle\n",
    "import math"
   ]
  },
  {
   "cell_type": "markdown",
   "metadata": {
    "colab_type": "text",
    "id": "1HrCK6e17WzV"
   },
   "source": [
    "First reload the data we generated in _notmist.ipynb_."
   ]
  },
  {
   "cell_type": "code",
   "execution_count": 2,
   "metadata": {
    "cellView": "both",
    "colab": {
     "autoexec": {
      "startup": false,
      "wait_interval": 0
     },
     "output_extras": [
      {
       "item_id": 1
      }
     ]
    },
    "colab_type": "code",
    "collapsed": false,
    "executionInfo": {
     "elapsed": 11777,
     "status": "ok",
     "timestamp": 1449849322348,
     "user": {
      "color": "",
      "displayName": "",
      "isAnonymous": false,
      "isMe": true,
      "permissionId": "",
      "photoUrl": "",
      "sessionId": "0",
      "userId": ""
     },
     "user_tz": 480
    },
    "id": "y3-cj1bpmuxc",
    "outputId": "e03576f1-ebbe-4838-c388-f1777bcc9873"
   },
   "outputs": [
    {
     "name": "stdout",
     "output_type": "stream",
     "text": [
      "Training set (200000, 28, 28) (200000,)\n",
      "Validation set (10000, 28, 28) (10000,)\n",
      "Test set (10000, 28, 28) (10000,)\n"
     ]
    }
   ],
   "source": [
    "pickle_file = 'notMNIST.pickle'\n",
    "\n",
    "with open(pickle_file, 'rb') as f:\n",
    "  save = pickle.load(f)\n",
    "  train_dataset = save['train_dataset']\n",
    "  train_labels = save['train_labels']\n",
    "  valid_dataset = save['valid_dataset']\n",
    "  valid_labels = save['valid_labels']\n",
    "  test_dataset = save['test_dataset']\n",
    "  test_labels = save['test_labels']\n",
    "  del save  # hint to help gc free up memory\n",
    "  print('Training set', train_dataset.shape, train_labels.shape)\n",
    "  print('Validation set', valid_dataset.shape, valid_labels.shape)\n",
    "  print('Test set', test_dataset.shape, test_labels.shape)"
   ]
  },
  {
   "cell_type": "markdown",
   "metadata": {
    "colab_type": "text",
    "id": "L7aHrm6nGDMB"
   },
   "source": [
    "Reformat into a shape that's more adapted to the models we're going to train:\n",
    "- data as a flat matrix,\n",
    "- labels as float 1-hot encodings."
   ]
  },
  {
   "cell_type": "code",
   "execution_count": 3,
   "metadata": {
    "cellView": "both",
    "colab": {
     "autoexec": {
      "startup": false,
      "wait_interval": 0
     },
     "output_extras": [
      {
       "item_id": 1
      }
     ]
    },
    "colab_type": "code",
    "collapsed": false,
    "executionInfo": {
     "elapsed": 11728,
     "status": "ok",
     "timestamp": 1449849322356,
     "user": {
      "color": "",
      "displayName": "",
      "isAnonymous": false,
      "isMe": true,
      "permissionId": "",
      "photoUrl": "",
      "sessionId": "0",
      "userId": ""
     },
     "user_tz": 480
    },
    "id": "IRSyYiIIGIzS",
    "outputId": "3f8996ee-3574-4f44-c953-5c8a04636582"
   },
   "outputs": [
    {
     "name": "stdout",
     "output_type": "stream",
     "text": [
      "Training set (200000, 784) (200000, 10)\n",
      "Validation set (10000, 784) (10000, 10)\n",
      "Test set (10000, 784) (10000, 10)\n"
     ]
    }
   ],
   "source": [
    "image_size = 28\n",
    "num_labels = 10\n",
    "\n",
    "def reformat(dataset, labels):\n",
    "  dataset = dataset.reshape((-1, image_size * image_size)).astype(np.float32)\n",
    "  # Map 2 to [0.0, 1.0, 0.0 ...], 3 to [0.0, 0.0, 1.0 ...]\n",
    "  labels = (np.arange(num_labels) == labels[:,None]).astype(np.float32)\n",
    "  return dataset, labels\n",
    "train_dataset, train_labels = reformat(train_dataset, train_labels)\n",
    "valid_dataset, valid_labels = reformat(valid_dataset, valid_labels)\n",
    "test_dataset, test_labels = reformat(test_dataset, test_labels)\n",
    "print('Training set', train_dataset.shape, train_labels.shape)\n",
    "print('Validation set', valid_dataset.shape, valid_labels.shape)\n",
    "print('Test set', test_dataset.shape, test_labels.shape)"
   ]
  },
  {
   "cell_type": "code",
   "execution_count": 4,
   "metadata": {
    "cellView": "both",
    "colab": {
     "autoexec": {
      "startup": false,
      "wait_interval": 0
     }
    },
    "colab_type": "code",
    "collapsed": true,
    "id": "RajPLaL_ZW6w"
   },
   "outputs": [],
   "source": [
    "def accuracy(predictions, labels):\n",
    "  return (100.0 * np.sum(np.argmax(predictions, 1) == np.argmax(labels, 1))\n",
    "          / predictions.shape[0])"
   ]
  },
  {
   "cell_type": "markdown",
   "metadata": {
    "colab_type": "text",
    "id": "sgLbUAQ1CW-1"
   },
   "source": [
    "---\n",
    "Problem 1\n",
    "---------\n",
    "\n",
    "Introduce and tune L2 regularization for both logistic and neural network models. Remember that L2 amounts to adding a penalty on the norm of the weights to the loss. In TensorFlow, you can compute the L2 loss for a tensor `t` using `nn.l2_loss(t)`. The right amount of regularization should improve your validation / test accuracy.\n",
    "\n",
    "---"
   ]
  },
  {
   "cell_type": "code",
   "execution_count": 5,
   "metadata": {
    "collapsed": true
   },
   "outputs": [],
   "source": [
    "batch_size = 128\n",
    "hidden_size = 1024\n",
    "\n",
    "graph = tf.Graph()\n",
    "with graph.as_default():\n",
    "\n",
    "  # Input data. For the training data, we use a placeholder that will be fed\n",
    "  # at run time with a training minibatch.\n",
    "  tf_train_dataset = tf.placeholder(tf.float32,\n",
    "                                    shape=(batch_size, image_size * image_size))\n",
    "  tf_train_labels = tf.placeholder(tf.float32, shape=(batch_size, num_labels))\n",
    "  tf_valid_dataset = tf.constant(valid_dataset)\n",
    "  tf_test_dataset = tf.constant(test_dataset)\n",
    "  \n",
    "  # Variables.\n",
    "  weights1 = tf.Variable(\n",
    "    tf.truncated_normal([image_size * image_size, hidden_size], stddev=math.sqrt(2./(image_size*image_size))))\n",
    "  biases1 = tf.Variable(tf.zeros([hidden_size]))\n",
    "\n",
    "  weights2 = tf.Variable(\n",
    "    tf.truncated_normal([hidden_size, num_labels], stddev=math.sqrt(2./hidden_size)))\n",
    "  biases2 = tf.Variable(tf.zeros([num_labels]))\n",
    "  \n",
    "  # Training computation.\n",
    "  pre_act = tf.matmul(tf_train_dataset, weights1) + biases1\n",
    "  post_act = tf.nn.relu(pre_act)\n",
    "  \n",
    "  logits = tf.matmul(post_act, weights2) + biases2\n",
    "  loss = tf.reduce_mean(\n",
    "    tf.nn.softmax_cross_entropy_with_logits(logits, tf_train_labels))\n",
    "\n",
    "\n",
    "  regularizers = (tf.nn.l2_loss(weights1) + tf.nn.l2_loss(biases1) +\n",
    "                  tf.nn.l2_loss(weights2) + tf.nn.l2_loss(biases2))\n",
    "  loss += 1e-4 * regularizers\n",
    "\n",
    "  # Optimizer.\n",
    "  optimizer = tf.train.GradientDescentOptimizer(0.5).minimize(loss)\n",
    "  \n",
    "  # Predictions for the training, validation, and test data.\n",
    "  train_prediction = tf.nn.softmax(logits)\n",
    "  valid_prediction = tf.nn.softmax(\n",
    "        tf.matmul(tf.nn.relu(tf.matmul(tf_valid_dataset, weights1) + biases1), weights2)+biases2\n",
    "    )\n",
    "  test_prediction = tf.nn.softmax(\n",
    "        tf.matmul(tf.nn.relu(tf.matmul(tf_test_dataset, weights1) + biases1), weights2)+biases2\n",
    "    )"
   ]
  },
  {
   "cell_type": "code",
   "execution_count": 6,
   "metadata": {
    "collapsed": false
   },
   "outputs": [
    {
     "name": "stdout",
     "output_type": "stream",
     "text": [
      "Initialized\n",
      "Minibatch loss at step 0: 2.511641\n",
      "Minibatch accuracy: 5.5%\n",
      "Validation accuracy: 32.6%\n",
      "Minibatch loss at step 3000: 0.519027\n",
      "Minibatch accuracy: 86.7%\n",
      "Validation accuracy: 88.9%\n",
      "Minibatch loss at step 6000: 0.505567\n",
      "Minibatch accuracy: 89.1%\n",
      "Validation accuracy: 89.1%\n",
      "Minibatch loss at step 9000: 0.351257\n",
      "Minibatch accuracy: 90.6%\n",
      "Validation accuracy: 89.4%\n",
      "Minibatch loss at step 12000: 0.232053\n",
      "Minibatch accuracy: 96.1%\n",
      "Validation accuracy: 89.3%\n",
      "Minibatch loss at step 15000: 0.332197\n",
      "Minibatch accuracy: 93.0%\n",
      "Validation accuracy: 89.4%\n",
      "Minibatch loss at step 18000: 0.319506\n",
      "Minibatch accuracy: 93.0%\n",
      "Validation accuracy: 87.6%\n",
      "Minibatch loss at step 21000: 0.418762\n",
      "Minibatch accuracy: 94.5%\n",
      "Validation accuracy: 88.1%\n",
      "Minibatch loss at step 24000: 0.248118\n",
      "Minibatch accuracy: 97.7%\n",
      "Validation accuracy: 89.4%\n",
      "Minibatch loss at step 27000: 0.237264\n",
      "Minibatch accuracy: 96.1%\n",
      "Validation accuracy: 89.7%\n",
      "Minibatch loss at step 30000: 0.407941\n",
      "Minibatch accuracy: 95.3%\n",
      "Validation accuracy: 88.7%\n",
      "Test accuracy: 94.3%\n"
     ]
    }
   ],
   "source": [
    "num_steps = 30001\n",
    "\n",
    "with tf.Session(graph=graph) as session:\n",
    "  tf.initialize_all_variables().run()\n",
    "  print(\"Initialized\")\n",
    "  for step in range(num_steps):\n",
    "    # Pick an offset within the training data, which has been randomized.\n",
    "    # Note: we could use better randomization across epochs.\n",
    "    offset = (step * batch_size) % (train_labels.shape[0] - batch_size)\n",
    "    # Generate a minibatch.\n",
    "    batch_data = train_dataset[offset:(offset + batch_size), :]\n",
    "    batch_labels = train_labels[offset:(offset + batch_size), :]\n",
    "    # Prepare a dictionary telling the session where to feed the minibatch.\n",
    "    # The key of the dictionary is the placeholder node of the graph to be fed,\n",
    "    # and the value is the numpy array to feed to it.\n",
    "    feed_dict = {tf_train_dataset : batch_data, tf_train_labels : batch_labels}\n",
    "    _, l, predictions = session.run(\n",
    "      [optimizer, loss, train_prediction], feed_dict=feed_dict)\n",
    "    if (step % 3000 == 0):\n",
    "      print(\"Minibatch loss at step %d: %f\" % (step, l))\n",
    "      print(\"Minibatch accuracy: %.1f%%\" % accuracy(predictions, batch_labels))\n",
    "      print(\"Validation accuracy: %.1f%%\" % accuracy(\n",
    "        valid_prediction.eval(), valid_labels))\n",
    "  print(\"Test accuracy: %.1f%%\" % accuracy(test_prediction.eval(), test_labels))"
   ]
  },
  {
   "cell_type": "markdown",
   "metadata": {
    "colab_type": "text",
    "id": "na8xX2yHZzNF"
   },
   "source": [
    "---\n",
    "Problem 2\n",
    "---------\n",
    "Let's demonstrate an extreme case of overfitting. Restrict your training data to just a few batches. What happens?\n",
    "\n",
    "---"
   ]
  },
  {
   "cell_type": "code",
   "execution_count": 7,
   "metadata": {
    "collapsed": false
   },
   "outputs": [
    {
     "name": "stdout",
     "output_type": "stream",
     "text": [
      "Initialized\n",
      "Minibatch loss at step 0: 2.544614\n",
      "Minibatch accuracy: 7.8%\n",
      "Validation accuracy: 31.2%\n",
      "Minibatch loss at step 3000: 0.062067\n",
      "Minibatch accuracy: 100.0%\n",
      "Validation accuracy: 70.9%\n",
      "Minibatch loss at step 6000: 0.046916\n",
      "Minibatch accuracy: 100.0%\n",
      "Validation accuracy: 71.1%\n",
      "Minibatch loss at step 9000: 0.035704\n",
      "Minibatch accuracy: 100.0%\n",
      "Validation accuracy: 71.1%\n",
      "Minibatch loss at step 12000: 0.027402\n",
      "Minibatch accuracy: 100.0%\n",
      "Validation accuracy: 71.2%\n",
      "Minibatch loss at step 15000: 0.021254\n",
      "Minibatch accuracy: 100.0%\n",
      "Validation accuracy: 71.2%\n",
      "Minibatch loss at step 18000: 0.016697\n",
      "Minibatch accuracy: 100.0%\n",
      "Validation accuracy: 71.3%\n",
      "Minibatch loss at step 21000: 0.013317\n",
      "Minibatch accuracy: 100.0%\n",
      "Validation accuracy: 71.2%\n",
      "Minibatch loss at step 24000: 0.010810\n",
      "Minibatch accuracy: 100.0%\n",
      "Validation accuracy: 71.2%\n",
      "Minibatch loss at step 27000: 0.008948\n",
      "Minibatch accuracy: 100.0%\n",
      "Validation accuracy: 71.2%\n",
      "Minibatch loss at step 30000: 0.007564\n",
      "Minibatch accuracy: 100.0%\n",
      "Validation accuracy: 71.3%\n",
      "Test accuracy: 78.0%\n"
     ]
    }
   ],
   "source": [
    "train_dataset_extreme = train_dataset[:256]\n",
    "train_labels_extreme = train_labels[:256]\n",
    "\n",
    "num_steps = 30001\n",
    "\n",
    "with tf.Session(graph=graph) as session:\n",
    "  tf.initialize_all_variables().run()\n",
    "  print(\"Initialized\")\n",
    "  for step in range(num_steps):\n",
    "    # Pick an offset within the training data, which has been randomized.\n",
    "    # Note: we could use better randomization across epochs.\n",
    "    offset = (step * batch_size) % (train_labels_extreme.shape[0] - batch_size)\n",
    "    # Generate a minibatch.\n",
    "    batch_data = train_dataset_extreme[offset:(offset + batch_size), :]\n",
    "    batch_labels = train_labels_extreme[offset:(offset + batch_size), :]\n",
    "    # Prepare a dictionary telling the session where to feed the minibatch.\n",
    "    # The key of the dictionary is the placeholder node of the graph to be fed,\n",
    "    # and the value is the numpy array to feed to it.\n",
    "    feed_dict = {tf_train_dataset : batch_data, tf_train_labels : batch_labels}\n",
    "    _, l, predictions = session.run(\n",
    "      [optimizer, loss, train_prediction], feed_dict=feed_dict)\n",
    "    if (step % 3000 == 0):\n",
    "      print(\"Minibatch loss at step %d: %f\" % (step, l))\n",
    "      print(\"Minibatch accuracy: %.1f%%\" % accuracy(predictions, batch_labels))\n",
    "      print(\"Validation accuracy: %.1f%%\" % accuracy(\n",
    "        valid_prediction.eval(), valid_labels))\n",
    "  print(\"Test accuracy: %.1f%%\" % accuracy(test_prediction.eval(), test_labels))"
   ]
  },
  {
   "cell_type": "markdown",
   "metadata": {
    "colab_type": "text",
    "id": "ww3SCBUdlkRc"
   },
   "source": [
    "---\n",
    "Problem 3\n",
    "---------\n",
    "Introduce Dropout on the hidden layer of the neural network. Remember: Dropout should only be introduced during training, not evaluation, otherwise your evaluation results would be stochastic as well. TensorFlow provides `nn.dropout()` for that, but you have to make sure it's only inserted during training.\n",
    "\n",
    "What happens to our extreme overfitting case?\n",
    "\n",
    "---"
   ]
  },
  {
   "cell_type": "code",
   "execution_count": 8,
   "metadata": {
    "collapsed": true
   },
   "outputs": [],
   "source": [
    "batch_size = 128\n",
    "hidden_size = 1024\n",
    "\n",
    "graph = tf.Graph()\n",
    "with graph.as_default():\n",
    "\n",
    "  # Input data. For the training data, we use a placeholder that will be fed\n",
    "  # at run time with a training minibatch.\n",
    "  tf_train_dataset = tf.placeholder(tf.float32,\n",
    "                                    shape=(batch_size, image_size * image_size))\n",
    "  tf_train_labels = tf.placeholder(tf.float32, shape=(batch_size, num_labels))\n",
    "  tf_valid_dataset = tf.constant(valid_dataset)\n",
    "  tf_test_dataset = tf.constant(test_dataset)\n",
    "  \n",
    "  # Variables.\n",
    "  weights1 = tf.Variable(\n",
    "    tf.truncated_normal([image_size * image_size, hidden_size], stddev=math.sqrt(2./(image_size*image_size))))\n",
    "  biases1 = tf.Variable(tf.zeros([hidden_size]))\n",
    "\n",
    "  weights2 = tf.Variable(\n",
    "    tf.truncated_normal([hidden_size, num_labels], stddev=math.sqrt(2./hidden_size)))\n",
    "  biases2 = tf.Variable(tf.zeros([num_labels]))\n",
    "  \n",
    "  # Training computation.\n",
    "  tf_train_dataset = tf.nn.dropout(tf_train_dataset, 0.8)\n",
    "  pre_act = tf.matmul(tf_train_dataset, weights1) + biases1\n",
    "  post_act = tf.nn.relu(pre_act)\n",
    "  dropout_layer1 = tf.nn.dropout(post_act, 0.6)\n",
    "\n",
    "  logits = tf.matmul(dropout_layer1, weights2) + biases2\n",
    "    \n",
    "  loss = tf.reduce_mean(\n",
    "    tf.nn.softmax_cross_entropy_with_logits(logits, tf_train_labels))\n",
    "\n",
    "\n",
    "  regularizers = (tf.nn.l2_loss(weights1) + tf.nn.l2_loss(biases1) +\n",
    "                  tf.nn.l2_loss(weights2) + tf.nn.l2_loss(biases2))\n",
    "  loss += 1e-4 * regularizers\n",
    "\n",
    "  # Optimizer.\n",
    "  optimizer = tf.train.GradientDescentOptimizer(0.5).minimize(loss)\n",
    "  \n",
    "  # Predictions for the training, validation, and test data.\n",
    "  train_prediction = tf.nn.softmax(logits)\n",
    "  valid_prediction = tf.nn.softmax(\n",
    "        tf.matmul(tf.nn.relu(tf.matmul(tf_valid_dataset, weights1) + biases1), weights2)+biases2\n",
    "    )\n",
    "  test_prediction = tf.nn.softmax(\n",
    "        tf.matmul(tf.nn.relu(tf.matmul(tf_test_dataset, weights1) + biases1), weights2)+biases2\n",
    "    )"
   ]
  },
  {
   "cell_type": "code",
   "execution_count": 9,
   "metadata": {
    "collapsed": false
   },
   "outputs": [
    {
     "name": "stdout",
     "output_type": "stream",
     "text": [
      "Initialized\n",
      "Minibatch loss at step 0: 2.674128\n",
      "Minibatch accuracy: 9.4%\n",
      "Validation accuracy: 41.1%\n",
      "Minibatch loss at step 3000: 0.581215\n",
      "Minibatch accuracy: 86.7%\n",
      "Validation accuracy: 88.3%\n",
      "Minibatch loss at step 6000: 0.534361\n",
      "Minibatch accuracy: 89.8%\n",
      "Validation accuracy: 89.3%\n",
      "Minibatch loss at step 9000: 0.407498\n",
      "Minibatch accuracy: 89.8%\n",
      "Validation accuracy: 89.3%\n",
      "Minibatch loss at step 12000: 0.400858\n",
      "Minibatch accuracy: 89.8%\n",
      "Validation accuracy: 89.1%\n",
      "Minibatch loss at step 15000: 0.432319\n",
      "Minibatch accuracy: 89.8%\n",
      "Validation accuracy: 89.8%\n",
      "Minibatch loss at step 18000: 0.451471\n",
      "Minibatch accuracy: 89.8%\n",
      "Validation accuracy: 89.3%\n",
      "Minibatch loss at step 21000: 0.444680\n",
      "Minibatch accuracy: 93.8%\n",
      "Validation accuracy: 89.9%\n",
      "Minibatch loss at step 24000: 0.348698\n",
      "Minibatch accuracy: 93.0%\n",
      "Validation accuracy: 89.9%\n",
      "Minibatch loss at step 27000: 0.355794\n",
      "Minibatch accuracy: 89.8%\n",
      "Validation accuracy: 90.0%\n",
      "Minibatch loss at step 30000: 0.532523\n",
      "Minibatch accuracy: 89.1%\n",
      "Validation accuracy: 89.9%\n",
      "Test accuracy: 95.0%\n"
     ]
    }
   ],
   "source": [
    "num_steps = 30001\n",
    "\n",
    "with tf.Session(graph=graph) as session:\n",
    "  tf.initialize_all_variables().run()\n",
    "  print(\"Initialized\")\n",
    "  for step in range(num_steps):\n",
    "    # Pick an offset within the training data, which has been randomized.\n",
    "    # Note: we could use better randomization across epochs.\n",
    "    offset = (step * batch_size) % (train_labels.shape[0] - batch_size)\n",
    "    # Generate a minibatch.\n",
    "    batch_data = train_dataset[offset:(offset + batch_size), :]\n",
    "    batch_labels = train_labels[offset:(offset + batch_size), :]\n",
    "    # Prepare a dictionary telling the session where to feed the minibatch.\n",
    "    # The key of the dictionary is the placeholder node of the graph to be fed,\n",
    "    # and the value is the numpy array to feed to it.\n",
    "    feed_dict = {tf_train_dataset : batch_data, tf_train_labels : batch_labels}\n",
    "    _, l, predictions = session.run(\n",
    "      [optimizer, loss, train_prediction], feed_dict=feed_dict)\n",
    "    if (step % 3000 == 0):\n",
    "      print(\"Minibatch loss at step %d: %f\" % (step, l))\n",
    "      print(\"Minibatch accuracy: %.1f%%\" % accuracy(predictions, batch_labels))\n",
    "      print(\"Validation accuracy: %.1f%%\" % accuracy(\n",
    "        valid_prediction.eval(), valid_labels))\n",
    "  print(\"Test accuracy: %.1f%%\" % accuracy(test_prediction.eval(), test_labels))"
   ]
  },
  {
   "cell_type": "code",
   "execution_count": 10,
   "metadata": {
    "collapsed": false
   },
   "outputs": [
    {
     "name": "stdout",
     "output_type": "stream",
     "text": [
      "Initialized\n",
      "Minibatch loss at step 0: 2.691259\n",
      "Minibatch accuracy: 7.8%\n",
      "Validation accuracy: 35.3%\n",
      "Minibatch loss at step 3000: 0.062373\n",
      "Minibatch accuracy: 100.0%\n",
      "Validation accuracy: 71.6%\n",
      "Minibatch loss at step 6000: 0.047189\n",
      "Minibatch accuracy: 100.0%\n",
      "Validation accuracy: 71.8%\n",
      "Minibatch loss at step 9000: 0.035961\n",
      "Minibatch accuracy: 100.0%\n",
      "Validation accuracy: 71.8%\n",
      "Minibatch loss at step 12000: 0.027725\n",
      "Minibatch accuracy: 100.0%\n",
      "Validation accuracy: 71.8%\n",
      "Minibatch loss at step 15000: 0.021501\n",
      "Minibatch accuracy: 100.0%\n",
      "Validation accuracy: 71.9%\n",
      "Minibatch loss at step 18000: 0.016852\n",
      "Minibatch accuracy: 100.0%\n",
      "Validation accuracy: 71.8%\n",
      "Minibatch loss at step 21000: 0.013616\n",
      "Minibatch accuracy: 100.0%\n",
      "Validation accuracy: 71.7%\n",
      "Minibatch loss at step 24000: 0.011071\n",
      "Minibatch accuracy: 100.0%\n",
      "Validation accuracy: 71.6%\n",
      "Minibatch loss at step 27000: 0.009109\n",
      "Minibatch accuracy: 100.0%\n",
      "Validation accuracy: 71.6%\n",
      "Minibatch loss at step 30000: 0.007803\n",
      "Minibatch accuracy: 100.0%\n",
      "Validation accuracy: 71.6%\n",
      "Test accuracy: 78.2%\n"
     ]
    }
   ],
   "source": [
    "train_dataset_extreme = train_dataset[:256]\n",
    "train_labels_extreme = train_labels[:256]\n",
    "\n",
    "num_steps = 30001\n",
    "\n",
    "with tf.Session(graph=graph) as session:\n",
    "  tf.initialize_all_variables().run()\n",
    "  print(\"Initialized\")\n",
    "  for step in range(num_steps):\n",
    "    # Pick an offset within the training data, which has been randomized.\n",
    "    # Note: we could use better randomization across epochs.\n",
    "    offset = (step * batch_size) % (train_labels_extreme.shape[0] - batch_size)\n",
    "    # Generate a minibatch.\n",
    "    batch_data = train_dataset_extreme[offset:(offset + batch_size), :]\n",
    "    batch_labels = train_labels_extreme[offset:(offset + batch_size), :]\n",
    "    # Prepare a dictionary telling the session where to feed the minibatch.\n",
    "    # The key of the dictionary is the placeholder node of the graph to be fed,\n",
    "    # and the value is the numpy array to feed to it.\n",
    "    feed_dict = {tf_train_dataset : batch_data, tf_train_labels : batch_labels}\n",
    "    _, l, predictions = session.run(\n",
    "      [optimizer, loss, train_prediction], feed_dict=feed_dict)\n",
    "    if (step % 3000 == 0):\n",
    "      print(\"Minibatch loss at step %d: %f\" % (step, l))\n",
    "      print(\"Minibatch accuracy: %.1f%%\" % accuracy(predictions, batch_labels))\n",
    "      print(\"Validation accuracy: %.1f%%\" % accuracy(\n",
    "        valid_prediction.eval(), valid_labels))\n",
    "  print(\"Test accuracy: %.1f%%\" % accuracy(test_prediction.eval(), test_labels))"
   ]
  },
  {
   "cell_type": "markdown",
   "metadata": {
    "colab_type": "text",
    "id": "-b1hTz3VWZjw"
   },
   "source": [
    "---\n",
    "Problem 4\n",
    "---------\n",
    "\n",
    "Try to get the best performance you can using a multi-layer model! The best reported test accuracy using a deep network is [97.1%](http://yaroslavvb.blogspot.com/2011/09/notmnist-dataset.html?showComment=1391023266211#c8758720086795711595).\n",
    "\n",
    "One avenue you can explore is to add multiple layers.\n",
    "\n",
    "Another one is to use learning rate decay:\n",
    "\n",
    "    global_step = tf.Variable(0)  # count the number of steps taken.\n",
    "    learning_rate = tf.train.exponential_decay(0.5, global_step, ...)\n",
    "    optimizer = tf.train.GradientDescentOptimizer(learning_rate).minimize(loss, global_step=global_step)\n",
    " \n",
    " ---\n"
   ]
  },
  {
   "cell_type": "code",
   "execution_count": 13,
   "metadata": {
    "collapsed": false
   },
   "outputs": [],
   "source": [
    "batch_size = 128\n",
    "hidden_size1 = 1024\n",
    "hidden_size2 = 512\n",
    "hidden_size3 = 256\n",
    "hidden_size4 = 128\n",
    "\n",
    "graph = tf.Graph()\n",
    "with graph.as_default():\n",
    "\n",
    "  # Input data. For the training data, we use a placeholder that will be fed\n",
    "  # at run time with a training minibatch.\n",
    "  tf_train_dataset = tf.placeholder(tf.float32,\n",
    "                                    shape=(batch_size, image_size * image_size))\n",
    "  tf_train_labels = tf.placeholder(tf.float32, shape=(batch_size, num_labels))\n",
    "  tf_valid_dataset = tf.constant(valid_dataset)\n",
    "  tf_test_dataset = tf.constant(test_dataset)\n",
    "  \n",
    "  # Variables.\n",
    "  weights1 = tf.Variable(\n",
    "    tf.truncated_normal([image_size * image_size, hidden_size1], stddev=math.sqrt(2./(image_size*image_size))))\n",
    "  biases1 = tf.Variable(tf.zeros([hidden_size1]))\n",
    "\n",
    "  weights2 = tf.Variable(\n",
    "    tf.truncated_normal([hidden_size1, hidden_size2], stddev=math.sqrt(2./hidden_size1)))\n",
    "  biases2 = tf.Variable(tf.zeros([hidden_size2]))\n",
    "\n",
    "  weights3 = tf.Variable(\n",
    "    tf.truncated_normal([hidden_size2, hidden_size3], stddev=math.sqrt(2./hidden_size2)))\n",
    "  biases3 = tf.Variable(tf.zeros([hidden_size3]))\n",
    "\n",
    "  weights4 = tf.Variable(\n",
    "    tf.truncated_normal([hidden_size3, hidden_size4], stddev=math.sqrt(2./hidden_size3)))\n",
    "  biases4 = tf.Variable(tf.zeros([hidden_size4]))\n",
    "    \n",
    "  weights5 = tf.Variable(\n",
    "    tf.truncated_normal([hidden_size4, num_labels], stddev=math.sqrt(2./hidden_size4)))\n",
    "  biases5 = tf.Variable(tf.zeros([num_labels]))\n",
    "  \n",
    "  \n",
    "  # Training computation.\n",
    "  tf_train_dataset = tf.nn.dropout(tf_train_dataset, 0.8)\n",
    "  pre_act1 = tf.matmul(tf_train_dataset, weights1) + biases1\n",
    "  post_act1 = tf.nn.relu(pre_act1)\n",
    "  dropout_layer1 = tf.nn.dropout(post_act1, 0.8)\n",
    "\n",
    "  pre_act2 = tf.matmul(dropout_layer1, weights2) + biases2\n",
    "  post_act2 = tf.nn.relu(pre_act2)\n",
    "  dropout_layer2 = tf.nn.dropout(post_act2, 0.8)\n",
    "\n",
    "  pre_act3 = tf.matmul(dropout_layer2, weights3) + biases3\n",
    "  post_act3 = tf.nn.relu(pre_act3)\n",
    "  dropout_layer3 = tf.nn.dropout(post_act3, 0.8)\n",
    "\n",
    "  pre_act4 = tf.matmul(dropout_layer3, weights4) + biases4\n",
    "  post_act4 = tf.nn.relu(pre_act4)\n",
    "  dropout_layer4 = tf.nn.dropout(post_act4, 0.8)\n",
    "    \n",
    "  logits = tf.matmul(dropout_layer4, weights5) + biases5\n",
    "\n",
    "  loss = tf.reduce_mean(\n",
    "    tf.nn.softmax_cross_entropy_with_logits(logits, tf_train_labels))\n",
    "\n",
    "\n",
    "  regularizers = (tf.nn.l2_loss(weights1) + tf.nn.l2_loss(biases1) +\n",
    "                  tf.nn.l2_loss(weights2) + tf.nn.l2_loss(biases2) +\n",
    "                  tf.nn.l2_loss(weights3) + tf.nn.l2_loss(biases3) +\n",
    "                  tf.nn.l2_loss(weights4) + tf.nn.l2_loss(biases4) +\n",
    "                  tf.nn.l2_loss(weights5) + tf.nn.l2_loss(biases5) )\n",
    "  loss += 1e-4 * regularizers\n",
    "  \n",
    "  optimizer = tf.train.GradientDescentOptimizer(0.01).minimize(loss)\n",
    "\n",
    "  # Predictions for the training, validation, and test data.\n",
    "  train_prediction = tf.nn.softmax(logits)\n",
    "\n",
    "\n",
    "  valid_pre_act1 = tf.matmul(tf_valid_dataset, weights1) + biases1\n",
    "  valid_post_act1 = tf.nn.relu(valid_pre_act1)\n",
    "  valid_pre_act2 = tf.matmul(valid_post_act1, weights2) + biases2\n",
    "  valid_post_act2 = tf.nn.relu(valid_pre_act2)\n",
    "  valid_pre_act3 = tf.matmul(valid_post_act2, weights3) + biases3\n",
    "  valid_post_act3 = tf.nn.relu(valid_pre_act3)  \n",
    "  valid_pre_act4 = tf.matmul(valid_post_act3, weights4) + biases4\n",
    "  valid_post_act4 = tf.nn.relu(valid_pre_act4)  \n",
    "  valid_prediction = tf.nn.softmax( tf.matmul(valid_post_act4, weights5) + biases5 )\n",
    "    \n",
    "  test_pre_act1 = tf.matmul(tf_test_dataset, weights1) + biases1\n",
    "  test_post_act1 = tf.nn.relu(test_pre_act1)\n",
    "  test_pre_act2 = tf.matmul(test_post_act1, weights2) + biases2\n",
    "  test_post_act2 = tf.nn.relu(test_pre_act2)\n",
    "  test_pre_act3 = tf.matmul(test_post_act2, weights3) + biases3\n",
    "  test_post_act3 = tf.nn.relu(test_pre_act3)   \n",
    "  test_pre_act4 = tf.matmul(test_post_act3, weights4) + biases4\n",
    "  test_post_act4 = tf.nn.relu(test_pre_act4)     \n",
    "  test_prediction = tf.nn.softmax( tf.matmul(test_post_act4, weights5) + biases5 )\n",
    "    "
   ]
  },
  {
   "cell_type": "code",
   "execution_count": 14,
   "metadata": {
    "collapsed": false
   },
   "outputs": [
    {
     "name": "stdout",
     "output_type": "stream",
     "text": [
      "Initialized\n",
      "Minibatch loss at step 0: 2.631862\n",
      "Minibatch accuracy: 10.9%\n",
      "Validation accuracy: 10.3%\n",
      "Minibatch loss at step 14000: 0.861485\n",
      "Minibatch accuracy: 75.8%\n",
      "Validation accuracy: 87.0%\n",
      "Minibatch loss at step 28000: 0.533287\n",
      "Minibatch accuracy: 88.3%\n",
      "Validation accuracy: 89.0%\n",
      "Minibatch loss at step 42000: 0.511270\n",
      "Minibatch accuracy: 89.1%\n",
      "Validation accuracy: 89.9%\n",
      "Minibatch loss at step 56000: 0.407863\n",
      "Minibatch accuracy: 93.8%\n",
      "Validation accuracy: 90.4%\n",
      "Minibatch loss at step 70000: 0.534386\n",
      "Minibatch accuracy: 88.3%\n",
      "Validation accuracy: 90.9%\n",
      "Minibatch loss at step 84000: 0.358785\n",
      "Minibatch accuracy: 90.6%\n",
      "Validation accuracy: 91.1%\n",
      "Minibatch loss at step 98000: 0.359739\n",
      "Minibatch accuracy: 94.5%\n",
      "Validation accuracy: 91.3%\n",
      "Minibatch loss at step 112000: 0.290494\n",
      "Minibatch accuracy: 94.5%\n",
      "Validation accuracy: 91.3%\n",
      "Minibatch loss at step 126000: 0.330977\n",
      "Minibatch accuracy: 93.8%\n",
      "Validation accuracy: 91.6%\n",
      "Minibatch loss at step 140000: 0.315237\n",
      "Minibatch accuracy: 94.5%\n",
      "Validation accuracy: 91.5%\n",
      "Test accuracy: 96.4%\n"
     ]
    }
   ],
   "source": [
    "num_steps = 140001\n",
    "\n",
    "with tf.Session(graph=graph) as session:\n",
    "  tf.initialize_all_variables().run()\n",
    "  print(\"Initialized\")\n",
    "  for step in range(num_steps):\n",
    "    # Pick an offset within the training data, which has been randomized.\n",
    "    # Note: we could use better randomization across epochs.\n",
    "    offset = (step * batch_size) % (train_labels.shape[0] - batch_size)\n",
    "    # Generate a minibatch.\n",
    "    batch_data = train_dataset[offset:(offset + batch_size), :]\n",
    "    batch_labels = train_labels[offset:(offset + batch_size), :]\n",
    "    # Prepare a dictionary telling the session where to feed the minibatch.\n",
    "    # The key of the dictionary is the placeholder node of the graph to be fed,\n",
    "    # and the value is the numpy array to feed to it.\n",
    "    feed_dict = {tf_train_dataset : batch_data, tf_train_labels : batch_labels}\n",
    "    _, l, predictions = session.run(\n",
    "      [optimizer, loss, train_prediction], feed_dict=feed_dict)\n",
    "    if (step % 14000 == 0):\n",
    "      print(\"Minibatch loss at step %d: %f\" % (step, l))\n",
    "      print(\"Minibatch accuracy: %.1f%%\" % accuracy(predictions, batch_labels))\n",
    "      print(\"Validation accuracy: %.1f%%\" % accuracy(\n",
    "        valid_prediction.eval(), valid_labels))\n",
    "  print(\"Test accuracy: %.1f%%\" % accuracy(test_prediction.eval(), test_labels))"
   ]
  },
  {
   "cell_type": "code",
   "execution_count": null,
   "metadata": {
    "collapsed": true
   },
   "outputs": [],
   "source": []
  }
 ],
 "metadata": {
  "colab": {
   "default_view": {},
   "name": "3_regularization.ipynb",
   "provenance": [],
   "version": "0.3.2",
   "views": {}
  },
  "kernelspec": {
   "display_name": "Python 2",
   "language": "python",
   "name": "python2"
  },
  "language_info": {
   "codemirror_mode": {
    "name": "ipython",
    "version": 2
   },
   "file_extension": ".py",
   "mimetype": "text/x-python",
   "name": "python",
   "nbconvert_exporter": "python",
   "pygments_lexer": "ipython2",
   "version": "2.7.11"
  }
 },
 "nbformat": 4,
 "nbformat_minor": 0
}
